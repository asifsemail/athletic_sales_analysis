# Import Libraries and Dependencies
import pandas as pd





# Read the CSV files into DataFrames.
sales_2020 = pd.read_csv('Resources/athletic_sales_2020.csv', low_memory=False)
sales_2021 = pd.read_csv('Resources/athletic_sales_2021.csv', low_memory=False)


# Display the 2020 sales DataFrame
sales_2020


# Display the 2021 sales DataFrame
sales_2021





# Check the 2020 sales data types.
sales_2020.info()


# Check the 2021 sales data types.
sales_2021.info()





# Combine the 2020 and 2021 sales DataFrames on the rows and reset the index.
# since both data sets need to be simply stacked as they have exact same columns with the same..
# .. data types, concat is the simplest option
combined_sales = pd.concat([sales_2020, sales_2021], axis=0, join='inner').reset_index(drop=True)

# Display the combined DataFrame
combined_sales


# Check if any values are null.
combined_sales.isnull().sum()


# Check the data type of each column
combined_sales.info()


# Convert the "invoice_date" to a datetime datatype
combined_sales['invoice_date'] = combined_sales['invoice_date'].astype('datetime64[ns]')
combined_sales


# Confirm that the "invoice_date" data type has been changed.
combined_sales.info()








# Show the number of products sold for region, state, and city.
products_by_area_groupby = combined_sales.groupby(['region', 'state', 'city'])['units_sold'].sum()

# because the sum function gives an output of series...
#...Convert the Series to a DataFrame
products_by_area_groupby = products_by_area_groupby.to_frame()

# Rename the sum to "Total_Products_Sold".
products_by_area_groupby.rename(columns={'units_sold': 'Total_Products_Sold'}, inplace=True)

# Sort by the 'Total_Products_Sold' column
products_by_area_groupby = products_by_area_groupby.sort_values(by='Total_Products_Sold', ascending=False).reset_index()

# Show the top 5 results
products_by_area_groupby.head()






# Show the number products sold for region, state, and city.
products_by_area_pivot = pd.pivot_table(combined_sales,
                                     values='units_sold',
                                     index = ['region', 'state', 'city'],
                                     aggfunc='sum')

# Rename the "units_sold" column to "Total_Products_Sold"
products_by_area_pivot.rename(columns={'units_sold': 'Total_Products_Sold'}, inplace=True)

# Show the top 5 results.
products_by_area_pivot = products_by_area_pivot.sort_values(by='Total_Products_Sold', ascending=False)

products_by_area_pivot.head()








# Show the number of products sold for region, state, and city.
sales_by_area_groupby = combined_sales.groupby(['region', 'state', 'city'])['total_sales'].sum()

# Convert the Series to a DataFrame
sales_by_area_groupby = sales_by_area_groupby.to_frame()

# Rename the sum to "Total_Products_Sold".
sales_by_area_groupby.rename(columns={'total_sales': 'Total_Sales'}, inplace=True)

# Sort by the 'Total_Products_Sold' column
sales_by_area_groupby = sales_by_area_groupby.sort_values(by='Total_Sales', ascending=False).reset_index()

# Show the top 5 results
sales_by_area_groupby.head()






# Show the number products sold for region, state, and city.
sales_by_area_pivot = pd.pivot_table(combined_sales,
                                     values='total_sales',
                                     index = ['region', 'state', 'city'],
                                     aggfunc='sum')
sales_by_area_pivot
                                     

# Rename the "units_sold" column to "Total_Products_Sold"
sales_by_area_pivot.rename(columns={'total_sales': 'Total_Sales'}, inplace=True)

# Show the top 5 results.
sales_by_area_pivot = sales_by_area_pivot.sort_values(by='Total_Sales', ascending=False)

sales_by_area_pivot.head()



#look at the dataframe for reference
combined_sales.head()








# Show the number of products sold for region, state, and city.
retailsales_by_area_groupby = combined_sales.groupby(['retailer','region', 'state', 'city'])['total_sales'].sum()

# Convert the Series to a DataFrame
retailsales_by_area_groupby = retailsales_by_area_groupby.to_frame()

# Rename the sum to "Total_Products_Sold".
retailsales_by_area_groupby.rename(columns={'total_sales': 'Total_Sales'}, inplace=True)

# Sort by the 'Total_Products_Sold' column
retailsales_by_area_groupby = retailsales_by_area_groupby.sort_values(by='Total_Sales', ascending=False).reset_index()

# Show the top 5 results
retailsales_by_area_groupby.head()







# Show the number products sold for region, state, and city.
retailsales_by_area_pivot = pd.pivot_table(combined_sales,
                                     values='total_sales',
                                     index = ['retailer','region', 'state', 'city'],
                                     aggfunc='sum')
retailsales_by_area_pivot
                                     

# Rename the "units_sold" column to "Total_Products_Sold"
retailsales_by_area_pivot.rename(columns={'total_sales': 'Total_Sales'}, inplace=True)

# Show the top 5 results.
retailsales_by_area_pivot = retailsales_by_area_pivot.sort_values(by='Total_Sales', ascending=False)

retailsales_by_area_pivot.head()


#look at the dataframe for reference
combined_sales.head()





# Filter the sales data to get the women's athletic footwear sales data.
womens_athletic_footwear_sales = combined_sales[combined_sales['product'] == "Women's Athletic Footwear"]
womens_athletic_footwear_sales





# Show the number of products sold for region, state, and city.
womensfootwear_by_area_groupby = womens_athletic_footwear_sales.groupby(['retailer','region', 'state', 'city'])['units_sold'].sum()

# Convert the Series to a DataFrame
womensfootwear_by_area_groupby = womensfootwear_by_area_groupby.to_frame()

# Rename the sum to "Total_Products_Sold".
womensfootwear_by_area_groupby.rename(columns={'units_sold': 'Womens_Footwear_Units_Sold'}, inplace=True)

# Sort by the 'Total_Products_Sold' column
womensfootwear_by_area_groupby = womensfootwear_by_area_groupby.sort_values(by='Womens_Footwear_Units_Sold', ascending=False).reset_index()

# Show the top 5 results
womensfootwear_by_area_groupby.head()







# Show the number products sold for region, state, and city.
womensfootwear_by_area_pivot = pd.pivot_table(womens_athletic_footwear_sales,
                                     values='units_sold',
                                     index = ['retailer','region', 'state', 'city'],
                                     aggfunc='sum')
womensfootwear_by_area_pivot
                                     

# Rename the "units_sold" column to "Total_Products_Sold"
womensfootwear_by_area_pivot.rename(columns={'units_sold': 'Womens_Footwear_Units_Sold'}, inplace=True)

# Show the top 5 results.
womensfootwear_by_area_pivot = womensfootwear_by_area_pivot.sort_values(by='Womens_Footwear_Units_Sold', ascending=False)

womensfootwear_by_area_pivot.head()


#refer to dataframe for next code
womens_athletic_footwear_sales.head()





# Create a pivot table with the 'invoice_date' column is the index, and the "total_sales" as the values.
womens_most_sales_day_pivot = pd.pivot_table(womens_athletic_footwear_sales,
                                     values='total_sales',
                                     index = ['invoice_date'],
                                     aggfunc='sum')


# Optional: Rename the "total_sales" column to "Total Sales"
womens_most_sales_day_pivot.rename(columns={'total_sales': 'Total Sales'}, inplace=True)

# Show the table.
womens_most_sales_day_pivot.head(10)


#checking index
print(womens_most_sales_day_pivot.index)


# # Resample the pivot table into daily bins, and get the total sales for each day.

# Since 'invoice_date' is already set as the index and is of datetime type
# Resample the pivot table into daily bins, and get the total sales for each day
total_sales_per_day = womens_most_sales_day_pivot.resample('D').sum()

# Sort the resampled pivot table in descending order on "Total Sales"
total_sales_per_day.sort_values(by='Total Sales', ascending=False, inplace=True)

# Display the sorted result
total_sales_per_day.head(10)





# Resample the pivot table into weekly bins, and get the total sales for each week.

# Since 'invoice_date' is already set as the index and is of datetime type
# Resample the pivot table into weekly bins, and get the total sales for each week
total_sales_per_week = womens_most_sales_day_pivot.resample('W').sum()

# Sort the resampled pivot table in descending order on "Total Sales"
total_sales_per_week.sort_values(by='Total Sales', ascending=False, inplace=True)

# Display the sorted result
total_sales_per_week.head(10)




